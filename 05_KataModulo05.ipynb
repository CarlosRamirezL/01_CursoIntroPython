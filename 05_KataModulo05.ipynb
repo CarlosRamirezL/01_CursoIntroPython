{
 "cells": [
  {
   "cell_type": "markdown",
   "metadata": {},
   "source": [
    "##                                                                      Operadores aritméticos en Python\n",
    "\n",
    "Exploremos cómo podemos crear un programa que pueda calcular la distancia entre dos planetas. Comenzaremos usando dos distancias de planetas: Tierra (149.597.870 km) y Júpiter (778.547.200 km)."
   ]
  },
  {
   "cell_type": "code",
   "execution_count": 7,
   "metadata": {},
   "outputs": [
    {
     "name": "stdout",
     "output_type": "stream",
     "text": [
      "Distancia en Km: 628949330 Km\n",
      "Distancia en mi: 390577533.93 mi\n"
     ]
    }
   ],
   "source": [
    "tierra=149597870\n",
    "jupiter=778547200\n",
    "\n",
    "distancia=jupiter-tierra\n",
    "distanciaM=(distancia*0.621)\n",
    "\n",
    "print(\"Distancia en Km: \" +str(distancia)+\" Km\")\n",
    "print(\"Distancia en mi: \" +str(distanciaM)+\" mi\")"
   ]
  },
  {
   "cell_type": "markdown",
   "metadata": {},
   "source": [
    "##                                                                      Convierte cadenas en números y usa valores absolutos\n",
    "Crear una aplicación para trabajar con números y entrada de usuario"
   ]
  },
  {
   "cell_type": "code",
   "execution_count": 9,
   "metadata": {},
   "outputs": [
    {
     "name": "stdout",
     "output_type": "stream",
     "text": [
      "Distancia entre planetas en Km: 1 Km\n",
      "Distancia entre planetas en mi: 0.621 mi\n"
     ]
    }
   ],
   "source": [
    "distancia1=input(\"Introduce la distancia del sol al planeta, en Km, por favor: \")\n",
    "distancia2=input(\"Introduce la distancia del sol al segundo planeta, en Km, por favor: \")\n",
    "\n",
    "dist1=int(distancia1)\n",
    "dist2=int(distancia2)\n",
    "\n",
    "distotalkm=dist1-dist2\n",
    "distotalmi=(distotalkm*0.621)\n",
    "distotalmi=abs(distotalmi)\n",
    "\n",
    "print(\"Distancia entre planetas en Km: \" + str(distotalkm) + \" Km\")\n",
    "print(\"Distancia entre planetas en mi: \" + str(distotalmi) + \" mi\")\n",
    "\n"
   ]
  }
 ],
 "metadata": {
  "interpreter": {
   "hash": "321a562c32c1ef0f4d1bce6724f96cbf5562b75820608d2935414fe72bdf9c83"
  },
  "kernelspec": {
   "display_name": "Python 3.9.9 64-bit",
   "language": "python",
   "name": "python3"
  },
  "language_info": {
   "codemirror_mode": {
    "name": "ipython",
    "version": 3
   },
   "file_extension": ".py",
   "mimetype": "text/x-python",
   "name": "python",
   "nbconvert_exporter": "python",
   "pygments_lexer": "ipython3",
   "version": "3.9.9"
  },
  "orig_nbformat": 4
 },
 "nbformat": 4,
 "nbformat_minor": 2
}
