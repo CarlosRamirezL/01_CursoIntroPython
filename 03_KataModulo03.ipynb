{
 "cells": [
  {
   "cell_type": "markdown",
   "metadata": {},
   "source": [
    "##                                                                      Asteroide Asesino"
   ]
  },
  {
   "cell_type": "code",
   "execution_count": 1,
   "metadata": {},
   "outputs": [
    {
     "name": "stdout",
     "output_type": "stream",
     "text": [
      "Vamos a morir como en Don't Look Up\n"
     ]
    }
   ],
   "source": [
    "vel_asteroide=49\n",
    "if vel_asteroide > 25:\n",
    "    print(\"Vamos a morir como en Don't Look Up\")\n",
    "else:\n",
    "    print(\"Mejor vamos a ver la peli\")"
   ]
  },
  {
   "cell_type": "code",
   "execution_count": 3,
   "metadata": {},
   "outputs": [
    {
     "name": "stdout",
     "output_type": "stream",
     "text": [
      "No pasa nada, no se ve nada, vamos a ver la peli\n"
     ]
    }
   ],
   "source": [
    "vel_asteroide1=19\n",
    "if vel_asteroide1 == 20:\n",
    "    print(\"Podremos ver la luz\")\n",
    "elif vel_asteroide1 > 20:\n",
    "    print(\"Vamos a ver nuestra última luz de la vida\")\n",
    "else:\n",
    "    print(\"No pasa nada, no se ve nada, vamos a ver la peli\")"
   ]
  },
  {
   "cell_type": "markdown",
   "metadata": {},
   "source": [
    "##                                                                      Asteroide Asesino 2: La venganza del asteroide\n",
    "\n",
    "\n"
   ]
  },
  {
   "cell_type": "code",
   "execution_count": 10,
   "metadata": {},
   "outputs": [
    {
     "name": "stdout",
     "output_type": "stream",
     "text": [
      "Solo veremos una bonita luz, ponte una rolita\n"
     ]
    }
   ],
   "source": [
    "vel_asteroide2=int(input(\"Ingresa la Velicidad del Asteroide: \"))\n",
    "tam_asteroide=int(input(\"Ingresa el Tamaño del Asteroide: \"))\n",
    "\n",
    "# Boolean\n",
    "if vel_asteroide2 > 25 and tam_asteroide > 25:\n",
    "    print(\"Despídanse de todos\")\n",
    "elif vel_asteroide2 < 25 and tam_asteroide <= 20:\n",
    "    print(\"Solo veremos una bonita luz, ponte una rolita\")\n"
   ]
  }
 ],
 "metadata": {
  "interpreter": {
   "hash": "321a562c32c1ef0f4d1bce6724f96cbf5562b75820608d2935414fe72bdf9c83"
  },
  "kernelspec": {
   "display_name": "Python 3.9.9 64-bit",
   "language": "python",
   "name": "python3"
  },
  "language_info": {
   "codemirror_mode": {
    "name": "ipython",
    "version": 3
   },
   "file_extension": ".py",
   "mimetype": "text/x-python",
   "name": "python",
   "nbconvert_exporter": "python",
   "pygments_lexer": "ipython3",
   "version": "3.9.9"
  },
  "orig_nbformat": 4
 },
 "nbformat": 4,
 "nbformat_minor": 2
}
